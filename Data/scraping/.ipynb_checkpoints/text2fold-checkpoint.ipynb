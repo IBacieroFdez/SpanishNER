{
 "cells": [
  {
   "cell_type": "markdown",
   "metadata": {},
   "source": [
    "# Guión de distribución de datos de entrenamiento entre los \"k\" folds "
   ]
  },
  {
   "cell_type": "markdown",
   "metadata": {},
   "source": [
    "#### 1. Llamada a las librerias que se va a utilizar a continuacion"
   ]
  },
  {
   "cell_type": "code",
   "execution_count": null,
   "metadata": {},
   "outputs": [],
   "source": [
    "import pandas as pd\n",
    "import os\n",
    "import numpy as np\n",
    "from random import sample"
   ]
  },
  {
   "cell_type": "markdown",
   "metadata": {},
   "source": [
    "#### 2. Inicializo una lista de numeros aleatorios entre el 1 y 1525 (1530 en el caso de k=10)\n",
    "    Estos numeros serán utilizados como índices tanto de los archivos de texto como de los archivos de anotacion."
   ]
  },
  {
   "cell_type": "code",
   "execution_count": null,
   "metadata": {},
   "outputs": [],
   "source": [
    "lista = range(1,1526)\n",
    "lista_al = sample(lista,k=1525)\n",
    "print(lista_al)"
   ]
  },
  {
   "cell_type": "code",
   "execution_count": null,
   "metadata": {},
   "outputs": [],
   "source": [
    "ds_1=[]\n",
    "i=0\n",
    "for e in range(0,1525):\n",
    "    ds_1.append(lista_al[e])\n",
    "    i+=1\n",
    "    \n",
    "print(ds_1,'\\n')\n",
    "print(i)"
   ]
  },
  {
   "cell_type": "markdown",
   "metadata": {},
   "source": [
    "### División de todos los datapoints que tenemos en 5 grupos (folds) \n",
    "    Se hará esto tanto para los textos como para sus respectivas anotaciones.\n",
    "   \n",
    "       * Para ello se procederá de la siguiente manera:\n",
    " \n",
    " #### 1. se renombran todos los archivos \n",
    " #### 2. Se guardan de 305 en 305 en los sucesivos datasets"
   ]
  },
  {
   "cell_type": "markdown",
   "metadata": {},
   "source": [
    "Por un lado las anotaciones"
   ]
  },
  {
   "cell_type": "code",
   "execution_count": null,
   "metadata": {},
   "outputs": [],
   "source": [
    "import shutil\n",
    "\n",
    "for i in range(1220,1525):\n",
    "    d1 = '/Users/.../dataset/annot_ord/annot_'+str(ds_1[i])+\".xml\"\n",
    "    d2 = '/Users/.../dataset/annot_al/annot_al_'+str(i+1)+'.xml'\n",
    "\n",
    "    shutil.move(d1, d2)"
   ]
  },
  {
   "cell_type": "markdown",
   "metadata": {},
   "source": [
    "Por el otro, los textos"
   ]
  },
  {
   "cell_type": "code",
   "execution_count": null,
   "metadata": {},
   "outputs": [],
   "source": [
    "import shutil\n",
    "\n",
    "for i in range(1220,1525):\n",
    "    d1 = '/Users/.../dataset/text_al/txt_al_'+str(i+1)+\".txt\"\n",
    "    d2 = '/Users/.../dataset/fold_5/txt/t_fold5_'+str(i+1)+'.txt'\n",
    "\n",
    "    shutil.move(d1, d2)"
   ]
  }
 ],
 "metadata": {
  "kernelspec": {
   "display_name": "Python 3",
   "language": "python",
   "name": "python3"
  },
  "language_info": {
   "codemirror_mode": {
    "name": "ipython",
    "version": 3
   },
   "file_extension": ".py",
   "mimetype": "text/x-python",
   "name": "python",
   "nbconvert_exporter": "python",
   "pygments_lexer": "ipython3",
   "version": "3.7.6"
  }
 },
 "nbformat": 4,
 "nbformat_minor": 4
}
