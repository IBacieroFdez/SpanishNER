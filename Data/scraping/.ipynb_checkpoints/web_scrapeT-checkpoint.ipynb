{
 "cells": [
  {
   "cell_type": "markdown",
   "metadata": {},
   "source": [
    "# Bloque de código para la extraccion de los articulos de noticias."
   ]
  },
  {
   "cell_type": "markdown",
   "metadata": {},
   "source": [
    "#### 1. Importación de las librerías necesarias:"
   ]
  },
  {
   "cell_type": "code",
   "execution_count": null,
   "metadata": {},
   "outputs": [],
   "source": [
    "import pandas as pd\n",
    "import requests\n",
    "from bs4 import BeautifulSoup"
   ]
  },
  {
   "cell_type": "markdown",
   "metadata": {},
   "source": [
    "#### 2. Lectura del archivo .xlsx "
   ]
  },
  {
   "cell_type": "code",
   "execution_count": null,
   "metadata": {},
   "outputs": [],
   "source": [
    "df = pd.read_excel(\"texts2test.xlsx\", usecols = [0,1,2,3,4,5,6], index = ['Titulo'], header = 1)\n",
    "df.iloc[:,:]\n",
    "\n",
    "print(df.URL)"
   ]
  },
  {
   "cell_type": "markdown",
   "metadata": {},
   "source": [
    "#### 3. Extracción de los textos, creación de los archivos de texto y guardado"
   ]
  },
  {
   "cell_type": "code",
   "execution_count": null,
   "metadata": {},
   "outputs": [],
   "source": [
    "i=1\n",
    "\n",
    "for link in df['URL']:\n",
    "    \n",
    "    u=link\n",
    "    \n",
    "    response = requests.get(u)\n",
    "    \n",
    "    data = response.text\n",
    "    \n",
    "    soup = BeautifulSoup(data, 'lxml')\n",
    "    \n",
    "    news = soup.findAll('p')\n",
    "    news = list(filter(None, news))\n",
    "    \n",
    "    j=1\n",
    "    \n",
    "    for new in news[1:-1]:\n",
    "        \n",
    "        with open('noticia_'+str(i)+'_'+str(j)+'.txt', 'w') as f:\n",
    "            \n",
    "            f.write(\"%s\\n\" % new.text.strip('\\n'))   #Gracias a esto no me van a volver a salir lineas vacias al principio de los parrafos\n",
    "            \n",
    "        j+=1       \n",
    "        \n",
    "    i+=1"
   ]
  }
 ],
 "metadata": {
  "kernelspec": {
   "display_name": "Python 3",
   "language": "python",
   "name": "python3"
  },
  "language_info": {
   "codemirror_mode": {
    "name": "ipython",
    "version": 3
   },
   "file_extension": ".py",
   "mimetype": "text/x-python",
   "name": "python",
   "nbconvert_exporter": "python",
   "pygments_lexer": "ipython3",
   "version": "3.7.6"
  }
 },
 "nbformat": 4,
 "nbformat_minor": 4
}
