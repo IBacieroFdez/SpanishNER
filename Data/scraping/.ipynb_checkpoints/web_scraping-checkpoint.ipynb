{
 "cells": [
  {
   "cell_type": "markdown",
   "metadata": {},
   "source": [
    "## Script para realizar el Scraping manualmente\n",
    "Tengo que instalar antes los 3 paquetes siguientes:\n",
    "\n",
    "    pip3 install beautifulsoup4\n",
    "    pip3 install requests\n",
    "    pip3 install lxml"
   ]
  },
  {
   "cell_type": "markdown",
   "metadata": {},
   "source": [
    "Por cada texto que queramos obtener de la pagina de la agencia efe:\n",
    " 1. Cambiar url\n",
    " 2. En el bucle for, adaptar cuando debemos empezar a iterar para no obtener junk y cuando parar...\n",
    " 3. Cambiar el nombre de los archivos de texto que estoy creando\n",
    " 4. Incluir en el bucle en el que creamos el .txt el comienzo de la iteracion"
   ]
  },
  {
   "cell_type": "code",
   "execution_count": 1,
   "metadata": {},
   "outputs": [],
   "source": [
    "import requests\n",
    "from bs4 import BeautifulSoup"
   ]
  },
  {
   "cell_type": "markdown",
   "metadata": {},
   "source": [
    "Get url of the page we want to scrap text"
   ]
  },
  {
   "cell_type": "code",
   "execution_count": 58,
   "metadata": {},
   "outputs": [],
   "source": [
    "url='https://cima.aemps.es/cima/dochtml/p/68339/Prospecto_68339.html'\n",
    "response = requests.get(url)"
   ]
  },
  {
   "cell_type": "markdown",
   "metadata": {},
   "source": [
    "Extracting the source code of the page"
   ]
  },
  {
   "cell_type": "code",
   "execution_count": 59,
   "metadata": {},
   "outputs": [],
   "source": [
    "data = response.text"
   ]
  },
  {
   "cell_type": "markdown",
   "metadata": {},
   "source": [
    "Passing the source code to Beautiful Soup to create a BeautifulSoup object for it."
   ]
  },
  {
   "cell_type": "code",
   "execution_count": 60,
   "metadata": {},
   "outputs": [],
   "source": [
    "soup = BeautifulSoup(data, 'lxml')"
   ]
  },
  {
   "cell_type": "markdown",
   "metadata": {},
   "source": [
    "Extracting all the html \"p\" tags into a list.\n",
    "    "
   ]
  },
  {
   "cell_type": "code",
   "execution_count": 61,
   "metadata": {},
   "outputs": [],
   "source": [
    "news = soup.findAll('p')"
   ]
  },
  {
   "cell_type": "markdown",
   "metadata": {},
   "source": [
    "Extracting text from the the html \"p\" tags, i.e. class titles.\n",
    "   "
   ]
  },
  {
   "cell_type": "code",
   "execution_count": 75,
   "metadata": {},
   "outputs": [
    {
     "name": "stdout",
     "output_type": "stream",
     "text": [
      "Los pacientes en tratamiento con barbitúricos o que padezcan alcoholismo crónico pueden ser más susceptibles a una sobredosis de paracetamol. Si olvidó tomar Paracetamol Kern PharmaNo tome una dosis doble para compensar las dosis olvidadas, simplemente tome la dosis olvidada cuando se acuerde, tomando las siguientes dosis con la separación entre tomas indicada en cada caso (al menos 4 horas). Si tiene cualquier otra duda sobre el uso de este producto, pregunte a su médico o farmacéutico. Al igual que todos los medicamentos, Paracetamol Kern Pharma puede producir efectos adversos, aunque no todas las personas los sufran. Paracetamol Kern Pharma puede producir los siguientes efectos adversos:\n"
     ]
    }
   ],
   "source": [
    "notic=''     #Inicializamos la variable que vamos a utilizar posteriormente para guardar el string\n",
    "\n",
    "for new in news[80:90]:\n",
    "    notic+=new.text\n",
    "print(notic)"
   ]
  },
  {
   "cell_type": "code",
   "execution_count": 74,
   "metadata": {},
   "outputs": [],
   "source": [
    "#Esta shell la he utilizado para dividir de 4 en 4 los prospectos de las medicinas\n",
    "\n",
    "notic=''\n",
    "for new in news[80:90]:\n",
    "    notic+=new.text\n",
    "with open('paracetamol_4.txt', 'w') as f:\n",
    "    f.write(\"%s\\n\" % notic) \n",
    "    notic=''"
   ]
  },
  {
   "cell_type": "markdown",
   "metadata": {},
   "source": [
    "Este es el que coge toda la noticia excepto los primero y ultimo parrafos."
   ]
  },
  {
   "cell_type": "code",
   "execution_count": 69,
   "metadata": {},
   "outputs": [],
   "source": [
    "with open('aspirina_4.txt', 'w') as f:       #Tengo que cambiarlo en cada noticia 'noticia_i.txt' para evitar guardar en el texto anuncios...\n",
    "    for new in news[1:-1]:                  #Para coger solo el texto que nos interesa\n",
    "        f.write(\"%s\\n\" % new.text)          #Creamos un archivo de texto con el mismo"
   ]
  }
 ],
 "metadata": {
  "kernelspec": {
   "display_name": "Python 3",
   "language": "python",
   "name": "python3"
  },
  "language_info": {
   "codemirror_mode": {
    "name": "ipython",
    "version": 3
   },
   "file_extension": ".py",
   "mimetype": "text/x-python",
   "name": "python",
   "nbconvert_exporter": "python",
   "pygments_lexer": "ipython3",
   "version": "3.7.6"
  }
 },
 "nbformat": 4,
 "nbformat_minor": 4
}
