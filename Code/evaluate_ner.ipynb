{
 "cells": [
  {
   "cell_type": "markdown",
   "metadata": {},
   "source": [
    "#  Evaluacion de los modelos"
   ]
  },
  {
   "cell_type": "markdown",
   "metadata": {},
   "source": [
    "#### 1. Import all libraries"
   ]
  },
  {
   "cell_type": "code",
   "execution_count": 1,
   "metadata": {},
   "outputs": [],
   "source": [
    "from __future__ import unicode_literals, print_function \n",
    "import xml.etree.ElementTree as ET     \n",
    "import pandas as pd\n",
    "import spacy\n",
    "from spacy.gold import GoldParse\n",
    "from spacy.scorer import Scorer\n",
    "from spacy.tokens import Span"
   ]
  },
  {
   "cell_type": "markdown",
   "metadata": {},
   "source": [
    "#### 2. Load the whole Gold Standards"
   ]
  },
  {
   "cell_type": "code",
   "execution_count": 3,
   "metadata": {},
   "outputs": [],
   "source": [
    "test_data=[]   \n",
    "\n",
    "for tn in range (1,153):  \n",
    "    \n",
    "    anot_path = '/Users/.../dataset_k10/fold_10/annot/a_fold10_'+str(tn)+'.xml' \n",
    "    tree = ET.parse(anot_path)                    \n",
    "    root = tree.getroot()\n",
    "    \n",
    "    df_cols = [\"Start\", \"End\", \"Type\"]                                 \n",
    "    rows = []\n",
    "    i=0\n",
    "    for node in root.iter('Annotation'):\n",
    "        s_Id = node.attrib.get(\"Id\")\n",
    "        s_type = node.attrib.get(\"Type\")\n",
    "        s_start = int(node.attrib.get(\"StartNode\"))\n",
    "        s_end = int(node.attrib.get(\"EndNode\"))\n",
    "        i+=1      \n",
    "        rows.append({\"Start\": s_start, \"End\": s_end, \"Type\": s_type})  \n",
    "        \n",
    "    out_df = pd.DataFrame(rows, columns = df_cols)\n",
    "    out_df = out_df[out_df.Type != 'paragraph']                       \n",
    "\n",
    "    records = out_df.to_records(index=False)\n",
    "    annot = list(records)                                            \n",
    "\n",
    "    text_path = '/Users/.../dataset_k10/fold_10/txt/t_fold10_'+str(tn)+\".txt\"\n",
    "    texto =open(text_path, \"r\")                                      \n",
    "    texto =texto.read() \n",
    "    texto = texto.replace('\\n','')                                 \n",
    "    texto = texto.replace('\\t','')                              \n",
    "    TRAIN_DATA_min = (texto, {'entities':annot})\n",
    "    test_data.append(TRAIN_DATA_min)"
   ]
  },
  {
   "cell_type": "markdown",
   "metadata": {},
   "source": [
    "#### 3. Evaluate Function"
   ]
  },
  {
   "cell_type": "code",
   "execution_count": 4,
   "metadata": {},
   "outputs": [],
   "source": [
    "def evaluate(model, examples):\n",
    "    scorer = Scorer()\n",
    "    for input_, annot in examples:\n",
    "        doc_gold_text = model.make_doc(input_)\n",
    "        gold = GoldParse(doc_gold_text, entities=annot['entities'])\n",
    "        pred_value = model(input_)\n",
    "        scorer.score(pred_value, gold)\n",
    "    return scorer.scores"
   ]
  },
  {
   "cell_type": "markdown",
   "metadata": {},
   "source": [
    "#### 4. Scores"
   ]
  },
  {
   "cell_type": "code",
   "execution_count": 5,
   "metadata": {},
   "outputs": [
    {
     "name": "stdout",
     "output_type": "stream",
     "text": [
      "{'uas': 0.0, 'las': 0.0, 'ents_p': 68.33013435700576, 'ents_r': 39.77653631284917, 'ents_f': 50.28248587570621, 'ents_per_type': {'SCITERM': {'p': 66.66666666666666, 'r': 25.64102564102564, 'f': 37.03703703703704}, 'MEDTERM': {'p': 0.0, 'r': 0.0, 'f': 0.0}, 'DISEASE': {'p': 80.32786885245902, 'r': 80.32786885245902, 'f': 80.32786885245902}, 'PER': {'p': 76.47058823529412, 'r': 61.904761904761905, 'f': 68.42105263157895}, 'JOB': {'p': 0.0, 'r': 0.0, 'f': 0.0}, 'TIME': {'p': 45.45454545454545, 'r': 25.0, 'f': 32.25806451612903}, 'ORG': {'p': 72.14285714285714, 'r': 72.66187050359713, 'f': 72.40143369175627}, 'DATE': {'p': 60.0, 'r': 67.74193548387096, 'f': 63.63636363636363}, 'EVENT': {'p': 0.0, 'r': 0.0, 'f': 0.0}, 'PRODUCT': {'p': 0.0, 'r': 0.0, 'f': 0.0}, 'GPE': {'p': 84.7457627118644, 'r': 64.93506493506493, 'f': 73.52941176470588}, 'QUANT': {'p': 63.26530612244898, 'r': 51.66666666666667, 'f': 56.880733944954144}, 'ADDRESS': {'p': 20.0, 'r': 33.33333333333333, 'f': 25.0}, 'LOC': {'p': 0.0, 'r': 0.0, 'f': 0.0}, 'NORP': {'p': 34.146341463414636, 'r': 35.0, 'f': 34.567901234567906}, 'LANG': {'p': 0.0, 'r': 0.0, 'f': 0.0}, 'DRUG': {'p': 85.71428571428571, 'r': 85.71428571428571, 'f': 85.71428571428571}, 'PERCENT': {'p': 0.0, 'r': 0.0, 'f': 0.0}, 'SPORT': {'p': 0.0, 'r': 0.0, 'f': 0.0}, 'FAC': {'p': 57.89473684210527, 'r': 55.00000000000001, 'f': 56.41025641025641}, 'MONEY': {'p': 0.0, 'r': 0.0, 'f': 0.0}}, 'tags_acc': 0.0, 'token_acc': 100.0}\n"
     ]
    }
   ],
   "source": [
    "nlp = spacy.load('/Users/.../dataset_k10/modelos/modelo_k10_sm_dr_1/it_8')\n",
    "results_all = evaluate(nlp, test_data)\n",
    "print(results_all)   "
   ]
  }
 ],
 "metadata": {
  "kernelspec": {
   "display_name": "Python 3",
   "language": "python",
   "name": "python3"
  },
  "language_info": {
   "codemirror_mode": {
    "name": "ipython",
    "version": 3
   },
   "file_extension": ".py",
   "mimetype": "text/x-python",
   "name": "python",
   "nbconvert_exporter": "python",
   "pygments_lexer": "ipython3",
   "version": "3.7.6"
  }
 },
 "nbformat": 4,
 "nbformat_minor": 4
}
