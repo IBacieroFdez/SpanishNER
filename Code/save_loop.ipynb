{
 "cells": [
  {
   "cell_type": "markdown",
   "metadata": {},
   "source": [
    "### Bloque de \n",
    "\n",
    "    Tomo como texto desde el segundo hasta el penultimo parrafo de cada texto, ya que en analisis anteriores he observado que estos dos son los menos utiles para el entrenamiento."
   ]
  },
  {
   "cell_type": "code",
   "execution_count": 3,
   "metadata": {},
   "outputs": [],
   "source": [
    "import pandas as pd\n",
    "import requests\n",
    "from bs4 import BeautifulSoup"
   ]
  },
  {
   "cell_type": "markdown",
   "metadata": {},
   "source": [
    "Cargamos la hoja de calculo en la que metimos el titulo de la noticia, su enlace y tematica"
   ]
  },
  {
   "cell_type": "code",
   "execution_count": 9,
   "metadata": {},
   "outputs": [
    {
     "name": "stdout",
     "output_type": "stream",
     "text": [
      "0    https://us.marca.com/claro/mas-trending/2020/0...\n",
      "1    https://www.efe.com/efe/espana/efefuturo/la-or...\n",
      "2    https://us.marca.com/claro/futbol/real-madrid/...\n",
      "3    https://elpais.com/america/sociedad/2020-05-12...\n",
      "4    https://www.xataka.com/empresas-y-economia/elo...\n",
      "5    https://www.infobae.com/america/wapo/2020/04/3...\n",
      "6    https://www.glamour.es/placeres/cultura/articu...\n",
      "7    https://www.revistagq.com/moda/articulo/nike-a...\n",
      "8    https://as.com/motor/2020/05/14/formula_1/1589...\n",
      "9    https://as.com/diarioas/2020/05/14/actualidad/...\n",
      "Name: URL, dtype: object\n"
     ]
    }
   ],
   "source": [
    "df = pd.read_excel(\"texts2test.xlsx\", usecols = [0,1,2,3,4,5,6], index = ['Titulo'], header = 1)\n",
    "#df.head(2)\n",
    "#print(df.iloc[:,:])\n",
    "\n",
    "df.iloc[:,:]\n",
    "print(df.URL)"
   ]
  },
  {
   "cell_type": "markdown",
   "metadata": {},
   "source": [
    "Este bloque de código itera de noticia en noticia y de parrafo en parrafo de cada noticia para crear un archivo de texto por cada uno. Asi, facilito el entrenamiento del modelo y 'espero' no me salen errores y se entrena mejor el modelo."
   ]
  },
  {
   "cell_type": "markdown",
   "metadata": {},
   "source": [
    "Ahora, lo que tengo que hacer es que a la hora de entrenar el modelo con cada iteracion, adapte el bucle for que recoje todos los textos de entrenamiento del modelo a la cantidad de textos que en los que hemos dividido el original.\n",
    "\n",
    "Jugamos con \"i\" y \"j\" para que el nombre de los archivos de texto sea coherente.\n",
    "En la anterior iteracion de entrenamiento, al no colocar bien la variable j dentro del bucle, salio que los 96 textos que actualmente componen mi df, se dividen en 1687 parrafos.\n"
   ]
  },
  {
   "cell_type": "code",
   "execution_count": 11,
   "metadata": {},
   "outputs": [],
   "source": [
    "i=1\n",
    "\n",
    "for link in df['URL']:\n",
    "    \n",
    "    u=link\n",
    "    \n",
    "    response = requests.get(u)\n",
    "    \n",
    "    data = response.text\n",
    "    \n",
    "    soup = BeautifulSoup(data, 'lxml')\n",
    "    \n",
    "    news = soup.findAll('p')\n",
    "    news = list(filter(None, news))\n",
    "    \n",
    "    j=1\n",
    "    \n",
    "    for new in news[1:-1]:\n",
    "        \n",
    "        with open('noticia_'+str(i)+'_'+str(j)+'.txt', 'w') as f:\n",
    "            \n",
    "            f.write(\"%s\\n\" % new.text.strip('\\n'))   #Gracias a esto no me van a volver a salir lineas vacias al principio de los parrafos\n",
    "            \n",
    "        j+=1       \n",
    "        \n",
    "    i+=1"
   ]
  },
  {
   "cell_type": "markdown",
   "metadata": {},
   "source": [
    "### EN EL CASO DE QUE QUISIESEMOS IR CAPTURANDO TEXTOS COMPLETOS DE CADA URL\n",
    "\n",
    "Deberiamos meter el bucle for dentro del with, es decir, que el for fuese metiendo uno a uno los parrafos de los que se compone el texto.\n",
    "\n",
    "    with open('noticia_'+str(i)+'.txt', 'w') as f:      \n",
    "        for new in news[1:-1]:                 \n",
    "            f.write(\"%s\\n\" % new.text)         "
   ]
  }
 ],
 "metadata": {
  "kernelspec": {
   "display_name": "Python 3",
   "language": "python",
   "name": "python3"
  },
  "language_info": {
   "codemirror_mode": {
    "name": "ipython",
    "version": 3
   },
   "file_extension": ".py",
   "mimetype": "text/x-python",
   "name": "python",
   "nbconvert_exporter": "python",
   "pygments_lexer": "ipython3",
   "version": "3.7.6"
  }
 },
 "nbformat": 4,
 "nbformat_minor": 4
}
